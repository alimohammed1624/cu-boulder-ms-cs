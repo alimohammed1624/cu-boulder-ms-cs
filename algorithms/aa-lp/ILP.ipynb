{
 "cells": [
  {
   "cell_type": "code",
   "execution_count": 1,
   "metadata": {},
   "outputs": [
    {
     "name": "stdout",
     "output_type": "stream",
     "text": [
      "Welcome to the CBC MILP Solver \n",
      "Version: 2.10.3 \n",
      "Build Date: Dec 15 2019 \n",
      "\n",
      "command line - /Users/alimohammed1624/.virtualenvs/temp/lib/python3.11/site-packages/pulp/solverdir/cbc/osx/64/cbc /var/folders/nz/m7btrx796jl1bvgth7q4y5wm0000gn/T/efddafdb9a2746838319fd8c2d2b0f42-pulp.mps max timeMode elapsed branch printingOptions all solution /var/folders/nz/m7btrx796jl1bvgth7q4y5wm0000gn/T/efddafdb9a2746838319fd8c2d2b0f42-pulp.sol (default strategy 1)\n",
      "At line 2 NAME          MODEL\n",
      "At line 3 ROWS\n",
      "At line 9 COLUMNS\n",
      "At line 36 RHS\n",
      "At line 41 BOUNDS\n",
      "At line 52 ENDATA\n",
      "Problem MODEL has 4 rows, 5 columns and 13 elements\n",
      "Coin0008I MODEL read with 0 errors\n",
      "Option for timeMode changed from cpu to elapsed\n",
      "Continuous objective value is 40 - 0.00 seconds\n",
      "Cgl0004I processed model has 4 rows, 4 columns (4 integer (0 of which binary)) and 12 elements\n",
      "Cutoff increment increased from 1e-05 to 0.9999\n",
      "Cbc0012I Integer solution of -40 found by DiveCoefficient after 0 iterations and 0 nodes (0.02 seconds)\n",
      "Cbc0001I Search completed - best objective -40, took 0 iterations and 0 nodes (0.02 seconds)\n",
      "Cbc0035I Maximum depth 0, 0 variables fixed on reduced cost\n",
      "Cuts at root node changed objective from -40 to -40\n",
      "Probing was tried 0 times and created 0 cuts of which 0 were active after adding rounds of cuts (0.000 seconds)\n",
      "Gomory was tried 0 times and created 0 cuts of which 0 were active after adding rounds of cuts (0.000 seconds)\n",
      "Knapsack was tried 0 times and created 0 cuts of which 0 were active after adding rounds of cuts (0.000 seconds)\n",
      "Clique was tried 0 times and created 0 cuts of which 0 were active after adding rounds of cuts (0.000 seconds)\n",
      "MixedIntegerRounding2 was tried 0 times and created 0 cuts of which 0 were active after adding rounds of cuts (0.000 seconds)\n",
      "FlowCover was tried 0 times and created 0 cuts of which 0 were active after adding rounds of cuts (0.000 seconds)\n",
      "TwoMirCuts was tried 0 times and created 0 cuts of which 0 were active after adding rounds of cuts (0.000 seconds)\n",
      "ZeroHalf was tried 0 times and created 0 cuts of which 0 were active after adding rounds of cuts (0.000 seconds)\n",
      "\n",
      "Result - Optimal solution found\n",
      "\n",
      "Objective value:                40.00000000\n",
      "Enumerated nodes:               0\n",
      "Total iterations:               0\n",
      "Time (CPU seconds):             0.00\n",
      "Time (Wallclock seconds):       0.02\n",
      "\n",
      "Option for printingOptions changed from normal to all\n",
      "Total time (CPU seconds):       0.00   (Wallclock seconds):       0.03\n",
      "\n"
     ]
    },
    {
     "data": {
      "text/plain": [
       "1"
      ]
     },
     "execution_count": 1,
     "metadata": {},
     "output_type": "execute_result"
    }
   ],
   "source": [
    "from pulp import *\n",
    "prob = LpProblem('Quiz',LpMaximize)\n",
    "\n",
    "dVars = [LpVariable(f'x{i}',lowBound=-15, upBound=15, cat='Integer') for i in range(5)]\n",
    "\n",
    "dec = [2,-3,1,0,0]\n",
    "\n",
    "prob += lpSum([dj*xj for (dj,xj) in zip(dec, dVars)])\n",
    "\n",
    "a,b,c,d = [1,-1,1,0,0],[1,-1,4,0,0],[1,2,-1,1,0],[0,0,1,-2,1]\n",
    "prob += lpSum([aj*xj for (aj,xj) in zip(a, dVars)]) <= 5\n",
    "prob += lpSum([bj*xj for (bj,xj) in zip(b, dVars)]) <= 7\n",
    "prob += lpSum([cj*xj for (cj,xj) in zip(c, dVars)]) <= 14\n",
    "prob += lpSum([dj*xj for (dj,xj) in zip(d, dVars)]) <= 7\n",
    "\n",
    "prob.solve()"
   ]
  },
  {
   "cell_type": "code",
   "execution_count": 2,
   "metadata": {},
   "outputs": [
    {
     "name": "stdout",
     "output_type": "stream",
     "text": [
      "Welcome to the CBC MILP Solver \n",
      "Version: 2.10.3 \n",
      "Build Date: Dec 15 2019 \n",
      "\n",
      "command line - /Users/alimohammed1624/.virtualenvs/temp/lib/python3.11/site-packages/pulp/solverdir/cbc/osx/64/cbc /var/folders/nz/m7btrx796jl1bvgth7q4y5wm0000gn/T/4d31c24e52ff479696334d59b217d6a2-pulp.mps timeMode elapsed branch printingOptions all solution /var/folders/nz/m7btrx796jl1bvgth7q4y5wm0000gn/T/4d31c24e52ff479696334d59b217d6a2-pulp.sol (default strategy 1)\n",
      "At line 2 NAME          MODEL\n",
      "At line 3 ROWS\n",
      "At line 9 COLUMNS\n",
      "At line 27 RHS\n",
      "At line 32 BOUNDS\n",
      "At line 39 ENDATA\n",
      "Problem MODEL has 4 rows, 3 columns and 8 elements\n",
      "Coin0008I MODEL read with 0 errors\n",
      "Option for timeMode changed from cpu to elapsed\n",
      "Continuous objective value is -0.25 - 0.00 seconds\n",
      "Cgl0000I Cut generators found to be infeasible! (or unbounded)\n",
      "Pre-processing says infeasible or unbounded\n",
      "Option for printingOptions changed from normal to all\n",
      "Total time (CPU seconds):       0.00   (Wallclock seconds):       0.00\n",
      "\n"
     ]
    },
    {
     "data": {
      "text/plain": [
       "[1.0, 0.5, -0.75]"
      ]
     },
     "execution_count": 2,
     "metadata": {},
     "output_type": "execute_result"
    }
   ],
   "source": [
    "prob = LpProblem('Quiz',LpMinimize)\n",
    "\n",
    "dVars = [LpVariable(f'x{i}',lowBound=-1, upBound=1, cat='Integer') for i in range(3)]\n",
    "\n",
    "dec = [2,-3,1]\n",
    "\n",
    "prob += lpSum([dj*xj for (dj,xj) in zip(dec, dVars)])\n",
    "\n",
    "a,b,c,d = [1,-1,0],[1,-1,0],[0,1,-1],[0,1,-1]\n",
    "prob += lpSum([aj*xj for (aj,xj) in zip(a, dVars)]) >= 0.5\n",
    "prob += lpSum([bj*xj for (bj,xj) in zip(b, dVars)]) <= 0.75\n",
    "prob += lpSum([cj*xj for (cj,xj) in zip(c, dVars)]) <= 1.25\n",
    "prob += lpSum([dj*xj for (dj,xj) in zip(d, dVars)]) >= 0.95\n",
    "\n",
    "prob.solve()\n",
    "LpStatus[prob.status]\n",
    "[dVars[i].varValue for i in range(3)]"
   ]
  },
  {
   "cell_type": "code",
   "execution_count": 3,
   "metadata": {},
   "outputs": [
    {
     "name": "stdout",
     "output_type": "stream",
     "text": [
      "Welcome to the CBC MILP Solver \n",
      "Version: 2.10.3 \n",
      "Build Date: Dec 15 2019 \n",
      "\n",
      "command line - /Users/alimohammed1624/.virtualenvs/temp/lib/python3.11/site-packages/pulp/solverdir/cbc/osx/64/cbc /var/folders/nz/m7btrx796jl1bvgth7q4y5wm0000gn/T/2521122db130441db9ff6f9916a96c05-pulp.mps timeMode elapsed branch printingOptions all solution /var/folders/nz/m7btrx796jl1bvgth7q4y5wm0000gn/T/2521122db130441db9ff6f9916a96c05-pulp.sol (default strategy 1)\n",
      "At line 2 NAME          MODEL\n",
      "At line 3 ROWS\n",
      "At line 18 COLUMNS\n",
      "At line 66 RHS\n",
      "At line 80 BOUNDS\n",
      "At line 88 ENDATA\n",
      "Problem MODEL has 13 rows, 7 columns and 26 elements\n",
      "Coin0008I MODEL read with 0 errors\n",
      "Option for timeMode changed from cpu to elapsed\n",
      "Continuous objective value is 3.5 - 0.00 seconds\n",
      "Cgl0003I 0 fixed, 0 tightened bounds, 7 strengthened rows, 0 substitutions\n",
      "Cgl0003I 0 fixed, 0 tightened bounds, 5 strengthened rows, 0 substitutions\n",
      "Cgl0003I 0 fixed, 0 tightened bounds, 1 strengthened rows, 0 substitutions\n",
      "Cgl0004I processed model has 7 rows, 7 columns (7 integer (7 of which binary)) and 21 elements\n",
      "Cutoff increment increased from 1e-05 to 0.9999\n",
      "Cbc0038I Initial state - 5 integers unsatisfied sum - 2.5\n",
      "Cbc0038I Pass   1: suminf.    2.50000 (5) obj. 4.5 iterations 1\n",
      "Cbc0038I Solution found of 7\n",
      "Cbc0038I Rounding solution of 5 is better than previous of 7\n",
      "\n",
      "Cbc0038I Before mini branch and bound, 2 integers at bound fixed and 0 continuous\n",
      "Cbc0038I Mini branch and bound did not improve solution (0.01 seconds)\n",
      "Cbc0038I After 0.01 seconds - Feasibility pump exiting with objective of 5 - took 0.00 seconds\n",
      "Cbc0012I Integer solution of 5 found by feasibility pump after 0 iterations and 0 nodes (0.01 seconds)\n",
      "Cbc0001I Search completed - best objective 5, took 0 iterations and 0 nodes (0.01 seconds)\n",
      "Cbc0035I Maximum depth 0, 1 variables fixed on reduced cost\n",
      "Cuts at root node changed objective from 4.5 to 4.5\n",
      "Probing was tried 0 times and created 0 cuts of which 0 were active after adding rounds of cuts (0.000 seconds)\n",
      "Gomory was tried 0 times and created 0 cuts of which 0 were active after adding rounds of cuts (0.000 seconds)\n",
      "Knapsack was tried 0 times and created 0 cuts of which 0 were active after adding rounds of cuts (0.000 seconds)\n",
      "Clique was tried 0 times and created 0 cuts of which 0 were active after adding rounds of cuts (0.000 seconds)\n",
      "MixedIntegerRounding2 was tried 0 times and created 0 cuts of which 0 were active after adding rounds of cuts (0.000 seconds)\n",
      "FlowCover was tried 0 times and created 0 cuts of which 0 were active after adding rounds of cuts (0.000 seconds)\n",
      "TwoMirCuts was tried 0 times and created 0 cuts of which 0 were active after adding rounds of cuts (0.000 seconds)\n",
      "ZeroHalf was tried 0 times and created 0 cuts of which 0 were active after adding rounds of cuts (0.000 seconds)\n",
      "\n",
      "Result - Optimal solution found\n",
      "\n",
      "Objective value:                5.00000000\n",
      "Enumerated nodes:               0\n",
      "Total iterations:               0\n",
      "Time (CPU seconds):             0.00\n",
      "Time (Wallclock seconds):       0.01\n",
      "\n",
      "Option for printingOptions changed from normal to all\n",
      "Total time (CPU seconds):       0.00   (Wallclock seconds):       0.01\n",
      "\n"
     ]
    },
    {
     "data": {
      "text/plain": [
       "[0.0, 1.0, 1.0, 1.0, 0.0, 1.0, 1.0]"
      ]
     },
     "execution_count": 3,
     "metadata": {},
     "output_type": "execute_result"
    }
   ],
   "source": [
    "from pulp import *\n",
    "prob = LpProblem('Quiz', LpMinimize)\n",
    "\n",
    "dVars = [LpVariable(f'x{i}', lowBound=0, upBound=1, cat='Integer') for i in range(7)]\n",
    "\n",
    "dec = [1, 1, 1, 1, 1, 1, 1]\n",
    "\n",
    "prob += lpSum([dj * xj for (dj, xj) in zip(dec, dVars)])\n",
    "\n",
    "e = [[0, 1], [0, 2], [0, 3], [1, 2], [1, 5], [2, 3], [2, 4], [2, 5], [3, 4], [3, 6], [4, 5], [4, 6], [5, 6]]\n",
    "\n",
    "for i in range(len(e)):\n",
    "    prob += dVars[e[i][0]] + dVars[e[i][1]] >= 1\n",
    "\n",
    "prob.solve()\n",
    "\n",
    "[dVars[i].varValue for i in range(7)]"
   ]
  }
 ],
 "metadata": {
  "kernelspec": {
   "display_name": "temp",
   "language": "python",
   "name": "python3"
  },
  "language_info": {
   "codemirror_mode": {
    "name": "ipython",
    "version": 3
   },
   "file_extension": ".py",
   "mimetype": "text/x-python",
   "name": "python",
   "nbconvert_exporter": "python",
   "pygments_lexer": "ipython3",
   "version": "3.11.7"
  }
 },
 "nbformat": 4,
 "nbformat_minor": 2
}
